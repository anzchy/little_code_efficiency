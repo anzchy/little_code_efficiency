{
 "cells": [
  {
   "cell_type": "markdown",
   "id": "46132c6e-5827-4612-b05c-967158b3feed",
   "metadata": {},
   "source": [
    "Prompt 1:\n",
    "based on the test code:https://github.com/yt-dlp/yt-dlp/blob/master/test/test_youtube_lists.py, and the repo:https://github.com/yt-dlp/yt-dlp, write a Python snippet that accepts a youtube playlist as input, extract every youtube video url in the playlist, ordering them properly."
   ]
  },
  {
   "cell_type": "code",
   "execution_count": 1,
   "id": "624d46ff-c532-4d95-b738-e5cfc5435854",
   "metadata": {},
   "outputs": [
    {
     "name": "stdin",
     "output_type": "stream",
     "text": [
      "Enter YouTube playlist URL:  https://www.youtube.com/playlist?list=PLEoM_i-3sen_Gc-AAiK3N1HZPW9tlg7zj\n"
     ]
    },
    {
     "name": "stderr",
     "output_type": "stream",
     "text": [
      "WARNING: [youtube:tab] Incomplete data received. Retrying (1/3)...\n",
      "WARNING: [youtube:tab] Incomplete data received. Retrying (2/3)...\n",
      "WARNING: [youtube:tab] Incomplete data received. Retrying (3/3)...\n",
      "WARNING: [youtube:tab] Incomplete data received. Giving up after 3 retries\n"
     ]
    },
    {
     "name": "stdout",
     "output_type": "stream",
     "text": [
      "1. https://www.youtube.com/watch?v=B1yZGVc42kE\n",
      "2. https://www.youtube.com/watch?v=YvnxCOxTmFU\n",
      "3. https://www.youtube.com/watch?v=-692kOlPIPc\n",
      "4. https://www.youtube.com/watch?v=EmiO7SQr_aE\n",
      "5. https://www.youtube.com/watch?v=IMxBuyvRbYo\n",
      "6. https://www.youtube.com/watch?v=F0BF2XefgaE\n",
      "7. https://www.youtube.com/watch?v=80LyBW2vit8\n",
      "8. https://www.youtube.com/watch?v=9FYKIUK5_VE\n",
      "9. https://www.youtube.com/watch?v=6SwpwiBJ4A4\n",
      "10. https://www.youtube.com/watch?v=AQQPdvL3BGk\n",
      "11. https://www.youtube.com/watch?v=YPTHqLwRIpQ\n",
      "12. https://www.youtube.com/watch?v=LQpattrCdUg\n",
      "13. https://www.youtube.com/watch?v=YgoUjy-mBoo\n",
      "14. https://www.youtube.com/watch?v=piWjtZusS1s\n",
      "15. https://www.youtube.com/watch?v=twCnR7lM498\n",
      "16. https://www.youtube.com/watch?v=_G8DYmOyBmA\n",
      "17. https://www.youtube.com/watch?v=VxQWaGgLMwY\n",
      "18. https://www.youtube.com/watch?v=1fgLuLbv9LM\n",
      "19. https://www.youtube.com/watch?v=3iE7uCj1wqA\n",
      "20. https://www.youtube.com/watch?v=DKfX5L4jhy4\n",
      "21. https://www.youtube.com/watch?v=u-Mz-JTNCVY\n"
     ]
    }
   ],
   "source": [
    "# A step by step instruction to batch download Youtube video\n",
    "# First extract every youtube video url\n",
    "import yt_dlp\n",
    "\n",
    "def extract_youtube_playlist_urls(playlist_url):\n",
    "    ydl_opts = {\n",
    "        'quiet': True,  # Suppress the output\n",
    "        'extract_flat': True  # Extract only metadata without downloading\n",
    "    }\n",
    "\n",
    "    video_urls = []\n",
    "    with yt_dlp.YoutubeDL(ydl_opts) as ydl:\n",
    "        info_dict = ydl.extract_info(playlist_url, download=False)\n",
    "        if 'entries' in info_dict:\n",
    "            for video in info_dict['entries']:\n",
    "                video_urls.append(f\"https://www.youtube.com/watch?v={video['id']}\")\n",
    "    return video_urls\n",
    "\n",
    "if __name__ == \"__main__\":\n",
    "    # Input your playlist URL here\n",
    "    playlist_url = input(\"Enter YouTube playlist URL: \")\n",
    "    video_urls = extract_youtube_playlist_urls(playlist_url)\n",
    "    \n",
    "    for index, url in enumerate(video_urls, start=1):\n",
    "        print(f\"{index}. {url}\")\n"
   ]
  },
  {
   "cell_type": "code",
   "execution_count": 2,
   "id": "7f163713-78dc-429d-97a5-a8b59621f960",
   "metadata": {},
   "outputs": [
    {
     "name": "stdout",
     "output_type": "stream",
     "text": [
      "[\n",
      "    \"https://www.youtube.com/watch?v=B1yZGVc42kE\",\n",
      "    \"https://www.youtube.com/watch?v=YvnxCOxTmFU\",\n",
      "    \"https://www.youtube.com/watch?v=-692kOlPIPc\",\n",
      "    \"https://www.youtube.com/watch?v=EmiO7SQr_aE\",\n",
      "    \"https://www.youtube.com/watch?v=IMxBuyvRbYo\",\n",
      "    \"https://www.youtube.com/watch?v=F0BF2XefgaE\",\n",
      "]\n"
     ]
    }
   ],
   "source": [
    "# regex to extract all of the url:\n",
    "import re\n",
    "\n",
    "input_text = \"\"\"\n",
    "1. https://www.youtube.com/watch?v=B1yZGVc42kE\n",
    "2. https://www.youtube.com/watch?v=YvnxCOxTmFU\n",
    "3. https://www.youtube.com/watch?v=-692kOlPIPc\n",
    "4. https://www.youtube.com/watch?v=EmiO7SQr_aE\n",
    "5. https://www.youtube.com/watch?v=IMxBuyvRbYo\n",
    "6. https://www.youtube.com/watch?v=F0BF2XefgaE\n",
    "\"\"\"\n",
    "\n",
    "# Regular expression to match YouTube URLs\n",
    "pattern = r\"https://www\\.youtube\\.com/watch\\?v=[\\w-]+\"\n",
    "\n",
    "# Find all matching URLs\n",
    "urls = re.findall(pattern, input_text)\n",
    "\n",
    "# Format the output as a list\n",
    "formatted_output = \"[\\n\" + \",\\n\".join(f'    \"{url}\"' for url in urls) + \",\\n]\"\n",
    "\n",
    "print(formatted_output)\n"
   ]
  },
  {
   "cell_type": "markdown",
   "id": "b19e8cf5-5b1a-42b7-a492-a209fe4cbf47",
   "metadata": {},
   "source": [
    "prompt 2:\n",
    "write a python program , that accept a youtube video url list as input, like this:\n",
    "1. https://www.youtube.com/watch?v=B1yZGVc42kE\n",
    "2. https://www.youtube.com/watch?v=YvnxCOxTmFU\n",
    "3. https://www.youtube.com/watch?v=-692kOlPIPc\n",
    "4. https://www.youtube.com/watch?v=EmiO7SQr_aE\n",
    "5. https://www.youtube.com/watch?v=IMxBuyvRbYo\n",
    "6. https://www.youtube.com/watch?v=F0BF2XefgaE\n",
    "you will prompt the user to select which numbers,(like \"1 2 3\", \"1-3\", either input is ok), and then you will use a for \n",
    "loop to download the selected videos one by one, with the resolution of the video, you can hard code to \"720p\".\n",
    "now based on the repo:https://github.com/yt-dlp/yt-dlp, write the code."
   ]
  },
  {
   "cell_type": "code",
   "execution_count": null,
   "id": "b0710c9e-3fdf-481e-8d37-1a475960f9e0",
   "metadata": {},
   "outputs": [],
   "source": [
    "# accept the youtube url list in the up box, and download them one by one.\n",
    "\n",
    "import yt_dlp\n",
    "\n",
    "def download_videos(video_urls, selected_indices):\n",
    "    # Define download options\n",
    "    ydl_opts = {\n",
    "        'format': 'best[height<=720]',\n",
    "        'outtmpl': '%(title)s.%(ext)s',\n",
    "        'noplaylist': True,\n",
    "    }\n",
    "\n",
    "    # Create a yt-dlp downloader\n",
    "    with yt_dlp.YoutubeDL(ydl_opts) as ydl:\n",
    "        for index in selected_indices:\n",
    "            try:\n",
    "                print(f\"Downloading video {index}: {video_urls[index - 1]}\")\n",
    "                ydl.download([video_urls[index - 1]])\n",
    "            except Exception as e:\n",
    "                print(f\"Error downloading video {index}: {e}\")\n",
    "\n",
    "def parse_selection(selection, max_index):\n",
    "    selected_indices = set()\n",
    "    parts = selection.split()\n",
    "\n",
    "    for part in parts:\n",
    "        if '-' in part:\n",
    "            start, end = part.split('-')\n",
    "            start, end = int(start), int(end)\n",
    "            if start > 0 and end <= max_index:\n",
    "                selected_indices.update(range(start, end + 1))\n",
    "        else:\n",
    "            idx = int(part)\n",
    "            if 0 < idx <= max_index:\n",
    "                selected_indices.add(idx)\n",
    "\n",
    "    return sorted(selected_indices)\n",
    "\n",
    "if __name__ == \"__main__\":\n",
    "    # List of YouTube URLs\n",
    "    video_urls = [\n",
    "        \"https://www.youtube.com/watch?v=B1yZGVc42kE\",\n",
    "        \"https://www.youtube.com/watch?v=YvnxCOxTmFU\",\n",
    "        \"https://www.youtube.com/watch?v=-692kOlPIPc\",\n",
    "        \"https://www.youtube.com/watch?v=EmiO7SQr_aE\",\n",
    "        \"https://www.youtube.com/watch?v=IMxBuyvRbYo\",\n",
    "        \"https://www.youtube.com/watch?v=F0BF2XefgaE\",\n",
    "    ]\n",
    "\n",
    "    # Display the list of videos to the user\n",
    "    print(\"Available videos:\")\n",
    "    for i, url in enumerate(video_urls, start=1):\n",
    "        print(f\"{i}. {url}\")\n",
    "\n",
    "    # Prompt the user to select videos\n",
    "    selection = input(\"Enter the numbers of the videos you want to download (e.g., '1 2 3' or '1-3'): \")\n",
    "\n",
    "    # Parse user input and download selected videos\n",
    "    selected_indices = parse_selection(selection, len(video_urls))\n",
    "    if selected_indices:\n",
    "        download_videos(video_urls, selected_indices)\n",
    "    else:\n",
    "        print(\"No valid video selection made.\")\n"
   ]
  },
  {
   "cell_type": "code",
   "execution_count": null,
   "id": "2f531eb8-e754-40f9-8747-b2d66aeada1f",
   "metadata": {},
   "outputs": [],
   "source": []
  }
 ],
 "metadata": {
  "kernelspec": {
   "display_name": "Python 3 (ipykernel)",
   "language": "python",
   "name": "python3"
  },
  "language_info": {
   "codemirror_mode": {
    "name": "ipython",
    "version": 3
   },
   "file_extension": ".py",
   "mimetype": "text/x-python",
   "name": "python",
   "nbconvert_exporter": "python",
   "pygments_lexer": "ipython3",
   "version": "3.10.15"
  }
 },
 "nbformat": 4,
 "nbformat_minor": 5
}
