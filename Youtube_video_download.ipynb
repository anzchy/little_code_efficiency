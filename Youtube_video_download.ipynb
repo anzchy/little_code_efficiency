{
 "cells": [
  {
   "cell_type": "code",
   "execution_count": null,
   "id": "7e809210-5435-42bb-a1f7-1e3cec17bca2",
   "metadata": {},
   "outputs": [
    {
     "name": "stdout",
     "output_type": "stream",
     "text": [
      "[youtube:tab] Extracting URL: https://www.youtube.com/playlist?list=PLEoM_i-3sen_Gc-AAiK3N1HZPW9tlg7zj\n",
      "[youtube:tab] PLEoM_i-3sen_Gc-AAiK3N1HZPW9tlg7zj: Downloading webpage\n",
      "[youtube:tab] PLEoM_i-3sen_Gc-AAiK3N1HZPW9tlg7zj: Redownloading playlist API JSON with unavailable videos\n",
      "[download] Downloading playlist: UW - CS135 - W20\n",
      "[youtube:tab] PLEoM_i-3sen_Gc-AAiK3N1HZPW9tlg7zj page 1: Downloading API JSON\n"
     ]
    },
    {
     "name": "stderr",
     "output_type": "stream",
     "text": [
      "WARNING: [youtube:tab] Incomplete data received. Retrying (1/3)...\n"
     ]
    },
    {
     "name": "stdout",
     "output_type": "stream",
     "text": [
      "[youtube:tab] PLEoM_i-3sen_Gc-AAiK3N1HZPW9tlg7zj page 1: Downloading API JSON\n"
     ]
    },
    {
     "name": "stderr",
     "output_type": "stream",
     "text": [
      "WARNING: [youtube:tab] Incomplete data received. Retrying (2/3)...\n"
     ]
    },
    {
     "name": "stdout",
     "output_type": "stream",
     "text": [
      "[youtube:tab] PLEoM_i-3sen_Gc-AAiK3N1HZPW9tlg7zj page 1: Downloading API JSON\n"
     ]
    },
    {
     "name": "stderr",
     "output_type": "stream",
     "text": [
      "WARNING: [youtube:tab] Incomplete data received. Retrying (3/3)...\n"
     ]
    },
    {
     "name": "stdout",
     "output_type": "stream",
     "text": [
      "[youtube:tab] PLEoM_i-3sen_Gc-AAiK3N1HZPW9tlg7zj page 1: Downloading API JSON\n"
     ]
    },
    {
     "name": "stderr",
     "output_type": "stream",
     "text": [
      "WARNING: [youtube:tab] Incomplete data received. Giving up after 3 retries\n"
     ]
    },
    {
     "name": "stdout",
     "output_type": "stream",
     "text": [
      "[youtube:tab] Playlist UW - CS135 - W20: Downloading 21 items of 21\n",
      "[download] Downloading item 1 of 21\n",
      "[youtube] Extracting URL: https://www.youtube.com/watch?v=B1yZGVc42kE\n",
      "[youtube] B1yZGVc42kE: Downloading webpage\n",
      "[youtube] B1yZGVc42kE: Downloading ios player API JSON\n",
      "[youtube] B1yZGVc42kE: Downloading mweb player API JSON\n",
      "[youtube] B1yZGVc42kE: Downloading m3u8 information\n",
      "[info] B1yZGVc42kE: Downloading 1 format(s): 136+251\n",
      "[download] Resuming download at byte 277633441\n",
      "[download] Destination: downloaded_videos/CS135 - W20 - Lecture #2.f136.mp4\n",
      "[download] 100% of  288.73MiB in 00:00:02 at 111.78MiB/s   \n",
      "[download] Destination: downloaded_videos/CS135 - W20 - Lecture #2.f251.webm\n",
      "[download] 100% of   51.11MiB in 00:00:16 at 3.10MiB/s     \n",
      "[Merger] Merging formats into \"downloaded_videos/CS135 - W20 - Lecture #2.mp4\"\n",
      "Deleting original file downloaded_videos/CS135 - W20 - Lecture #2.f136.mp4 (pass -k to keep)\n",
      "Deleting original file downloaded_videos/CS135 - W20 - Lecture #2.f251.webm (pass -k to keep)\n",
      "[download] Downloading item 2 of 21\n",
      "[youtube] Extracting URL: https://www.youtube.com/watch?v=YvnxCOxTmFU\n",
      "[youtube] YvnxCOxTmFU: Downloading webpage\n",
      "[youtube] YvnxCOxTmFU: Downloading ios player API JSON\n",
      "[youtube] YvnxCOxTmFU: Downloading mweb player API JSON\n",
      "[youtube] YvnxCOxTmFU: Downloading m3u8 information\n",
      "[info] YvnxCOxTmFU: Downloading 1 format(s): 136+251\n",
      "[download] Destination: downloaded_videos/CS135 - W20 - Lecture #3.f136.mp4\n",
      "[download] 100% of  488.24MiB in 00:02:02 at 3.98MiB/s     \n",
      "[download] Destination: downloaded_videos/CS135 - W20 - Lecture #3.f251.webm\n",
      "[download] 100% of   53.73MiB in 00:00:13 at 3.92MiB/s     \n",
      "[Merger] Merging formats into \"downloaded_videos/CS135 - W20 - Lecture #3.mp4\"\n",
      "Deleting original file downloaded_videos/CS135 - W20 - Lecture #3.f251.webm (pass -k to keep)\n",
      "Deleting original file downloaded_videos/CS135 - W20 - Lecture #3.f136.mp4 (pass -k to keep)\n",
      "[download] Downloading item 3 of 21\n",
      "[youtube] Extracting URL: https://www.youtube.com/watch?v=-692kOlPIPc\n",
      "[youtube] -692kOlPIPc: Downloading webpage\n",
      "[youtube] -692kOlPIPc: Downloading ios player API JSON\n",
      "[youtube] -692kOlPIPc: Downloading mweb player API JSON\n",
      "[youtube] -692kOlPIPc: Downloading m3u8 information\n",
      "[info] -692kOlPIPc: Downloading 1 format(s): 136+251\n",
      "[download] Destination: downloaded_videos/CS135 - W20 - Lecture 4.f136.mp4\n",
      "[download] 100% of  372.75MiB in 00:01:35 at 3.92MiB/s     \n",
      "[download] Destination: downloaded_videos/CS135 - W20 - Lecture 4.f251.webm\n",
      "[download] 100% of   53.24MiB in 00:00:15 at 3.37MiB/s     \n",
      "[Merger] Merging formats into \"downloaded_videos/CS135 - W20 - Lecture 4.mp4\"\n",
      "Deleting original file downloaded_videos/CS135 - W20 - Lecture 4.f251.webm (pass -k to keep)\n",
      "Deleting original file downloaded_videos/CS135 - W20 - Lecture 4.f136.mp4 (pass -k to keep)\n",
      "[download] Downloading item 4 of 21\n",
      "[youtube] Extracting URL: https://www.youtube.com/watch?v=EmiO7SQr_aE\n",
      "[youtube] EmiO7SQr_aE: Downloading webpage\n",
      "[youtube] EmiO7SQr_aE: Downloading ios player API JSON\n",
      "[youtube] EmiO7SQr_aE: Downloading mweb player API JSON\n",
      "[youtube] EmiO7SQr_aE: Downloading m3u8 information\n",
      "[info] EmiO7SQr_aE: Downloading 1 format(s): 136+251\n",
      "[download] Destination: downloaded_videos/CS135 - W20 - Lecture #5.f136.mp4\n",
      "[download] 100% of  397.65MiB in 00:01:35 at 4.15MiB/s     \n",
      "[download] Destination: downloaded_videos/CS135 - W20 - Lecture #5.f251.webm\n",
      "[download] 100% of   52.87MiB in 00:00:17 at 3.04MiB/s     \n",
      "[Merger] Merging formats into \"downloaded_videos/CS135 - W20 - Lecture #5.mp4\"\n",
      "Deleting original file downloaded_videos/CS135 - W20 - Lecture #5.f136.mp4 (pass -k to keep)\n",
      "Deleting original file downloaded_videos/CS135 - W20 - Lecture #5.f251.webm (pass -k to keep)\n",
      "[download] Downloading item 5 of 21\n",
      "[youtube] Extracting URL: https://www.youtube.com/watch?v=IMxBuyvRbYo\n",
      "[youtube] IMxBuyvRbYo: Downloading webpage\n",
      "[youtube] IMxBuyvRbYo: Downloading ios player API JSON\n",
      "[youtube] IMxBuyvRbYo: Downloading mweb player API JSON\n",
      "[youtube] IMxBuyvRbYo: Downloading m3u8 information\n",
      "[info] IMxBuyvRbYo: Downloading 1 format(s): 136+251\n",
      "[download] Destination: downloaded_videos/CS135 - W20 - Lecture #6.f136.mp4\n",
      "[download] 100% of  337.67MiB in 00:01:55 at 2.92MiB/s      \n",
      "[download] Resuming download at byte 20529767\n",
      "[download] Destination: downloaded_videos/CS135 - W20 - Lecture #6.f251.webm\n",
      "[download] 100% of   52.25MiB in 00:00:10 at 5.22MiB/s     \n",
      "[Merger] Merging formats into \"downloaded_videos/CS135 - W20 - Lecture #6.mp4\"\n",
      "Deleting original file downloaded_videos/CS135 - W20 - Lecture #6.f251.webm (pass -k to keep)\n",
      "Deleting original file downloaded_videos/CS135 - W20 - Lecture #6.f136.mp4 (pass -k to keep)\n",
      "[download] Downloading item 6 of 21\n",
      "[youtube] Extracting URL: https://www.youtube.com/watch?v=F0BF2XefgaE\n",
      "[youtube] F0BF2XefgaE: Downloading webpage\n",
      "[youtube] F0BF2XefgaE: Downloading ios player API JSON\n",
      "[youtube] F0BF2XefgaE: Downloading mweb player API JSON\n",
      "[youtube] F0BF2XefgaE: Downloading m3u8 information\n",
      "[info] F0BF2XefgaE: Downloading 1 format(s): 136+251\n",
      "[download] Resuming download at byte 9216\n",
      "[download] Destination: downloaded_videos/CS135 - W20 - Lecture #7.f136.mp4\n",
      "[download] 100% of  430.34MiB in 00:02:02 at 3.50MiB/s      \n",
      "[download] Destination: downloaded_videos/CS135 - W20 - Lecture #7.f251.webm\n",
      "[download] 100% of   51.21MiB in 00:00:28 at 1.82MiB/s     \n",
      "[Merger] Merging formats into \"downloaded_videos/CS135 - W20 - Lecture #7.mp4\"\n",
      "Deleting original file downloaded_videos/CS135 - W20 - Lecture #7.f251.webm (pass -k to keep)\n",
      "Deleting original file downloaded_videos/CS135 - W20 - Lecture #7.f136.mp4 (pass -k to keep)\n",
      "[download] Downloading item 7 of 21\n",
      "[youtube] Extracting URL: https://www.youtube.com/watch?v=80LyBW2vit8\n",
      "[youtube] 80LyBW2vit8: Downloading webpage\n",
      "[youtube] 80LyBW2vit8: Downloading ios player API JSON\n",
      "[youtube] 80LyBW2vit8: Downloading mweb player API JSON\n",
      "[youtube] 80LyBW2vit8: Downloading m3u8 information\n",
      "[info] 80LyBW2vit8: Downloading 1 format(s): 136+251\n",
      "[download] Resuming download at byte 7168\n",
      "[download] Destination: downloaded_videos/CS135 - W20 - Lecture #8.f136.mp4\n",
      "[download] 100% of  391.37MiB in 00:01:42 at 3.81MiB/s      \n",
      "[download] Destination: downloaded_videos/CS135 - W20 - Lecture #8.f251.webm\n",
      "[download]  24.4% of   48.94MiB at    3.55MiB/s ETA 00:10  "
     ]
    }
   ],
   "source": [
    "# make sure to install the latest yt_dlp via running `pip install yt_dlp` in your environment\n",
    "# 记住隔天访问，一天下载太多次请求，会被封（但是第二天就好了）\n",
    "import os\n",
    "import yt_dlp as youtube_dl\n",
    "\n",
    "def download_youtube_playlist(playlist_url, resolution=\"720p\"):\n",
    "    \"\"\"\n",
    "    Download all videos in a YouTube playlist at a specified resolution.\n",
    "    :param playlist_url: URL of the YouTube playlist or video.\n",
    "    :param resolution: The resolution in which videos should be downloaded (e.g., \"720p\", \"480p\").\n",
    "    \"\"\"\n",
    "    # Create directory to store downloads\n",
    "    if not os.path.exists('downloaded_videos'):\n",
    "        os.makedirs('downloaded_videos')\n",
    "    \n",
    "    ydl_opts = {\n",
    "        'format': f'bestvideo[height<={resolution[:-1]}]+bestaudio/best',\n",
    "        'outtmpl': 'downloaded_videos/%(title)s.%(ext)s',\n",
    "        'noplaylist': False if 'playlist' in playlist_url else True,\n",
    "        'merge_output_format': 'mp4'\n",
    "    }\n",
    "\n",
    "    try:\n",
    "        with youtube_dl.YoutubeDL(ydl_opts) as ydl:\n",
    "            ydl.download([playlist_url])\n",
    "    except Exception as e:\n",
    "        print(f\"An error occurred: {e}\")\n",
    "\n",
    "\n",
    "# Example usage\n",
    "playlist_url = \"https://www.youtube.com/playlist?list=PLEoM_i-3sen_Gc-AAiK3N1HZPW9tlg7zj\"\n",
    "download_youtube_playlist(playlist_url, resolution=\"720p\")\n"
   ]
  },
  {
   "cell_type": "code",
   "execution_count": 6,
   "id": "b2080aee-5077-477a-848e-b812d5a406e2",
   "metadata": {},
   "outputs": [
    {
     "name": "stdout",
     "output_type": "stream",
     "text": [
      "[youtube:tab] Extracting URL: https://www.youtube.com/playlist?list=PLEoM_i-3sen_Gc-AAiK3N1HZPW9tlg7zj\n",
      "[youtube:tab] PLEoM_i-3sen_Gc-AAiK3N1HZPW9tlg7zj: Downloading webpage\n",
      "[youtube:tab] PLEoM_i-3sen_Gc-AAiK3N1HZPW9tlg7zj: Redownloading playlist API JSON with unavailable videos\n",
      "[download] Downloading playlist: UW - CS135 - W20\n",
      "[youtube:tab] PLEoM_i-3sen_Gc-AAiK3N1HZPW9tlg7zj page 1: Downloading API JSON\n"
     ]
    },
    {
     "name": "stderr",
     "output_type": "stream",
     "text": [
      "WARNING: [youtube:tab] Incomplete data received. Retrying (1/3)...\n"
     ]
    },
    {
     "name": "stdout",
     "output_type": "stream",
     "text": [
      "[youtube:tab] PLEoM_i-3sen_Gc-AAiK3N1HZPW9tlg7zj page 1: Downloading API JSON\n"
     ]
    },
    {
     "name": "stderr",
     "output_type": "stream",
     "text": [
      "WARNING: [youtube:tab] Incomplete data received. Retrying (2/3)...\n"
     ]
    },
    {
     "name": "stdout",
     "output_type": "stream",
     "text": [
      "[youtube:tab] PLEoM_i-3sen_Gc-AAiK3N1HZPW9tlg7zj page 1: Downloading API JSON\n"
     ]
    },
    {
     "name": "stderr",
     "output_type": "stream",
     "text": [
      "WARNING: [youtube:tab] Incomplete data received. Retrying (3/3)...\n"
     ]
    },
    {
     "name": "stdout",
     "output_type": "stream",
     "text": [
      "[youtube:tab] PLEoM_i-3sen_Gc-AAiK3N1HZPW9tlg7zj page 1: Downloading API JSON\n"
     ]
    },
    {
     "name": "stderr",
     "output_type": "stream",
     "text": [
      "WARNING: [youtube:tab] Incomplete data received. Giving up after 3 retries\n"
     ]
    },
    {
     "name": "stdout",
     "output_type": "stream",
     "text": [
      "[youtube:tab] Playlist UW - CS135 - W20: Downloading 21 items of 21\n",
      "[download] Downloading item 1 of 21\n",
      "[download] Downloading item 2 of 21\n",
      "[download] Downloading item 3 of 21\n",
      "[download] Downloading item 4 of 21\n",
      "[download] Downloading item 5 of 21\n",
      "[download] Downloading item 6 of 21\n",
      "[download] Downloading item 7 of 21\n",
      "[download] Downloading item 8 of 21\n",
      "[download] Downloading item 9 of 21\n",
      "[download] Downloading item 10 of 21\n",
      "[download] Downloading item 11 of 21\n",
      "[download] Downloading item 12 of 21\n",
      "[download] Downloading item 13 of 21\n",
      "[download] Downloading item 14 of 21\n",
      "[download] Downloading item 15 of 21\n",
      "[download] Downloading item 16 of 21\n",
      "[download] Downloading item 17 of 21\n",
      "[download] Downloading item 18 of 21\n",
      "[download] Downloading item 19 of 21\n",
      "[download] Downloading item 20 of 21\n",
      "[download] Downloading item 21 of 21\n",
      "[download] Finished downloading playlist: UW - CS135 - W20\n",
      "\n",
      "List of videos in the playlist:\n",
      "1. CS135 - W20 - Lecture #2\n",
      "2. CS135 - W20 - Lecture #3\n",
      "3. CS135 - W20 - Lecture 4\n",
      "4. CS135 - W20 - Lecture #5\n",
      "5. CS135 - W20 - Lecture #6\n",
      "6. CS135 - W20 - Lecture #7\n",
      "7. CS135 - W20 - Lecture #8\n",
      "8. CS135 - W20 - Lecture 9\n",
      "9. CS135 - W20 - Lecture #10\n",
      "10. CS135 - W20 - Lecture #11\n",
      "11. CS135 - W20 - Lecture #12\n",
      "12. CS135 - W20 - Lecture #13\n",
      "13. CS135 - W20 - Lecture #14\n",
      "14. CS135 - W20 - Lecture #15\n",
      "15. CS135 - W20 - Lecture #16\n",
      "16. CS135 - W20 - Lecture #17\n",
      "17. CS135 - W20 - Lecture #18\n",
      "18. CS135 - W20 - Lecture #19\n",
      "19. CS135 - W20 - Lecture #20\n",
      "20. CS135 - W20 - Lecture #21\n",
      "21. CS135 - W20 - Lecture #22\n"
     ]
    },
    {
     "name": "stdin",
     "output_type": "stream",
     "text": [
      "\n",
      "Enter the numbers of the videos you want to download (e.g., '1 2 3' or '3-5'):  6 7\n"
     ]
    },
    {
     "name": "stdout",
     "output_type": "stream",
     "text": [
      "[youtube] Extracting URL: https://www.youtube.com/watch?v=F0BF2XefgaE\n",
      "[youtube] F0BF2XefgaE: Downloading webpage\n",
      "[youtube] F0BF2XefgaE: Downloading ios player API JSON\n",
      "[youtube] F0BF2XefgaE: Downloading mweb player API JSON\n",
      "[youtube] F0BF2XefgaE: Downloading m3u8 information\n",
      "[info] F0BF2XefgaE: Downloading 1 format(s): 136+251\n",
      "[download] Resuming download at byte 8192\n",
      "[download] Destination: downloaded_videos/CS135 - W20 - Lecture #7.f136.mp4\n",
      "An error occurred: '>' not supported between instances of 'float' and 'str'\n",
      "[youtube] Extracting URL: https://www.youtube.com/watch?v=80LyBW2vit8\n",
      "[youtube] 80LyBW2vit8: Downloading webpage\n",
      "[youtube] 80LyBW2vit8: Downloading ios player API JSON\n",
      "[youtube] 80LyBW2vit8: Downloading mweb player API JSON\n",
      "[youtube] 80LyBW2vit8: Downloading m3u8 information\n",
      "[info] 80LyBW2vit8: Downloading 1 format(s): 136+251\n",
      "[download] Resuming download at byte 6144\n",
      "[download] Destination: downloaded_videos/CS135 - W20 - Lecture #8.f136.mp4\n",
      "An error occurred: '>' not supported between instances of 'float' and 'str'\n"
     ]
    }
   ],
   "source": [
    "# add choice and you can select which videos to download\n",
    "\n",
    "import os\n",
    "import yt_dlp as youtube_dl\n",
    "import urllib3\n",
    "urllib3.disable_warnings(urllib3.exceptions.InsecureRequestWarning)\n",
    "\n",
    "def download_youtube_playlist(playlist_url, resolution=\"720p\"):\n",
    "    \"\"\"\n",
    "    Download all videos in a YouTube playlist at a specified resolution.\n",
    "    :param playlist_url: URL of the YouTube playlist or video.\n",
    "    :param resolution: The resolution in which videos should be downloaded (e.g., \"720p\", \"480p\").\n",
    "    \"\"\"\n",
    "    # Create directory to store downloads\n",
    "    if not os.path.exists('downloaded_videos'):\n",
    "        os.makedirs('downloaded_videos')\n",
    "    \n",
    "    ydl_opts = {\n",
    "        'format': f'bestvideo[height<={resolution[:-1]}]+bestaudio/best',\n",
    "        'outtmpl': 'downloaded_videos/%(title)s.%(ext)s',\n",
    "        'noplaylist': False if 'playlist' in playlist_url else True,\n",
    "        'merge_output_format': 'mp4',\n",
    "        'http_chunk_size': 10485760,  # 10MB\n",
    "        'retries': 10,\n",
    "        'nocheckcertificate': True,\n",
    "        'user_agent': 'Mozilla/5.0 (Windows NT 10.0; Win64; x64) AppleWebKit/537.36 (KHTML, like Gecko) Chrome/91.0.4472.124 Safari/537.36',\n",
    "        'ratelimit': '500K'  # Limit the download rate to prevent server issues\n",
    "    }\n",
    "\n",
    "    try:\n",
    "        with youtube_dl.YoutubeDL(ydl_opts) as ydl:\n",
    "            ydl.download([playlist_url])\n",
    "    except Exception as e:\n",
    "        print(f\"An error occurred: {e}\")\n",
    "\n",
    "def list_and_download_videos(playlist_url, resolution=\"720p\"):\n",
    "    \"\"\"\n",
    "    List all videos in a YouTube playlist and prompt the user to select videos to download.\n",
    "    :param playlist_url: URL of the YouTube playlist.\n",
    "    :param resolution: The resolution in which videos should be downloaded (e.g., \"720p\", \"480p\").\n",
    "    \"\"\"\n",
    "    ydl_opts = {\n",
    "        'extract_flat': True,\n",
    "        'noplaylist': False,\n",
    "        'nocheckcertificate': True,\n",
    "        'user_agent': 'Mozilla/5.0 (Windows NT 10.0; Win64; x64) AppleWebKit/537.36 (KHTML, like Gecko) Chrome/91.0.4472.124 Safari/537.36'\n",
    "    }\n",
    "\n",
    "    try:\n",
    "        with youtube_dl.YoutubeDL(ydl_opts) as ydl:\n",
    "            info_dict = ydl.extract_info(playlist_url, download=False)\n",
    "            entries = info_dict.get('entries', [])\n",
    "            video_urls = []\n",
    "\n",
    "            print(\"\\nList of videos in the playlist:\")\n",
    "            for idx, entry in enumerate(entries, start=1):\n",
    "                print(f\"{idx}. {entry.get('title')}\")\n",
    "                video_urls.append(entry.get('url'))\n",
    "\n",
    "            # Get user input for selection\n",
    "            selection = input(\"\\nEnter the numbers of the videos you want to download (e.g., '1 2 3' or '3-5'): \")\n",
    "            selected_indices = []\n",
    "            parts = selection.split()\n",
    "            for part in parts:\n",
    "                if '-' in part:\n",
    "                    start, end = map(int, part.split('-'))\n",
    "                    selected_indices.extend(range(start, end + 1))\n",
    "                else:\n",
    "                    selected_indices.append(int(part))\n",
    "\n",
    "            # Download selected videos\n",
    "            for idx in selected_indices:\n",
    "                if 1 <= idx <= len(video_urls):\n",
    "                    download_youtube_playlist(video_urls[idx - 1], resolution)\n",
    "                else:\n",
    "                    print(f\"Invalid index: {idx}\")\n",
    "    except Exception as e:\n",
    "        print(f\"An error occurred: {e}\")\n",
    "\n",
    "\n",
    "# Example usage\n",
    "playlist_url = \"https://www.youtube.com/playlist?list=PLEoM_i-3sen_Gc-AAiK3N1HZPW9tlg7zj\"\n",
    "list_and_download_videos(playlist_url, resolution=\"720p\")\n"
   ]
  },
  {
   "cell_type": "code",
   "execution_count": 5,
   "id": "01620415-b7fb-4c09-be7a-1817b2a48e69",
   "metadata": {},
   "outputs": [
    {
     "name": "stdout",
     "output_type": "stream",
     "text": [
      "[youtube:tab] Extracting URL: https://www.youtube.com/playlist?list=PLEoM_i-3sen_Gc-AAiK3N1HZPW9tlg7zj\n",
      "[youtube:tab] PLEoM_i-3sen_Gc-AAiK3N1HZPW9tlg7zj: Downloading webpage\n",
      "[youtube:tab] PLEoM_i-3sen_Gc-AAiK3N1HZPW9tlg7zj: Redownloading playlist API JSON with unavailable videos\n",
      "[download] Downloading playlist: UW - CS135 - W20\n",
      "[youtube:tab] PLEoM_i-3sen_Gc-AAiK3N1HZPW9tlg7zj page 1: Downloading API JSON\n"
     ]
    },
    {
     "name": "stderr",
     "output_type": "stream",
     "text": [
      "WARNING: [youtube:tab] Incomplete data received. Retrying (1/3)...\n"
     ]
    },
    {
     "name": "stdout",
     "output_type": "stream",
     "text": [
      "[youtube:tab] PLEoM_i-3sen_Gc-AAiK3N1HZPW9tlg7zj page 1: Downloading API JSON\n"
     ]
    },
    {
     "name": "stderr",
     "output_type": "stream",
     "text": [
      "WARNING: [youtube:tab] Incomplete data received. Retrying (2/3)...\n"
     ]
    },
    {
     "name": "stdout",
     "output_type": "stream",
     "text": [
      "[youtube:tab] PLEoM_i-3sen_Gc-AAiK3N1HZPW9tlg7zj page 1: Downloading API JSON\n"
     ]
    },
    {
     "name": "stderr",
     "output_type": "stream",
     "text": [
      "WARNING: [youtube:tab] Incomplete data received. Retrying (3/3)...\n"
     ]
    },
    {
     "name": "stdout",
     "output_type": "stream",
     "text": [
      "[youtube:tab] PLEoM_i-3sen_Gc-AAiK3N1HZPW9tlg7zj page 1: Downloading API JSON\n"
     ]
    },
    {
     "name": "stderr",
     "output_type": "stream",
     "text": [
      "WARNING: [youtube:tab] Incomplete data received. Giving up after 3 retries\n"
     ]
    },
    {
     "name": "stdout",
     "output_type": "stream",
     "text": [
      "[youtube:tab] Playlist UW - CS135 - W20: Downloading 21 items of 21\n",
      "[download] Downloading item 1 of 21\n",
      "[download] Downloading item 2 of 21\n",
      "[download] Downloading item 3 of 21\n",
      "[download] Downloading item 4 of 21\n",
      "[download] Downloading item 5 of 21\n",
      "[download] Downloading item 6 of 21\n",
      "[download] Downloading item 7 of 21\n",
      "[download] Downloading item 8 of 21\n",
      "[download] Downloading item 9 of 21\n",
      "[download] Downloading item 10 of 21\n",
      "[download] Downloading item 11 of 21\n",
      "[download] Downloading item 12 of 21\n",
      "[download] Downloading item 13 of 21\n",
      "[download] Downloading item 14 of 21\n",
      "[download] Downloading item 15 of 21\n",
      "[download] Downloading item 16 of 21\n",
      "[download] Downloading item 17 of 21\n",
      "[download] Downloading item 18 of 21\n",
      "[download] Downloading item 19 of 21\n",
      "[download] Downloading item 20 of 21\n",
      "[download] Downloading item 21 of 21\n",
      "[download] Finished downloading playlist: UW - CS135 - W20\n",
      "\n",
      "List of videos in the playlist:\n",
      "1. CS135 - W20 - Lecture #2\n",
      "2. CS135 - W20 - Lecture #3\n",
      "3. CS135 - W20 - Lecture 4\n",
      "4. CS135 - W20 - Lecture #5\n",
      "5. CS135 - W20 - Lecture #6\n",
      "6. CS135 - W20 - Lecture #7\n",
      "7. CS135 - W20 - Lecture #8\n",
      "8. CS135 - W20 - Lecture 9\n",
      "9. CS135 - W20 - Lecture #10\n",
      "10. CS135 - W20 - Lecture #11\n",
      "11. CS135 - W20 - Lecture #12\n",
      "12. CS135 - W20 - Lecture #13\n",
      "13. CS135 - W20 - Lecture #14\n",
      "14. CS135 - W20 - Lecture #15\n",
      "15. CS135 - W20 - Lecture #16\n",
      "16. CS135 - W20 - Lecture #17\n",
      "17. CS135 - W20 - Lecture #18\n",
      "18. CS135 - W20 - Lecture #19\n",
      "19. CS135 - W20 - Lecture #20\n",
      "20. CS135 - W20 - Lecture #21\n",
      "21. CS135 - W20 - Lecture #22\n"
     ]
    },
    {
     "name": "stdin",
     "output_type": "stream",
     "text": [
      "\n",
      "Enter the numbers of the videos you want to download (e.g., '1 2 3' or '3-5'):  '6-8'\n"
     ]
    },
    {
     "name": "stdout",
     "output_type": "stream",
     "text": [
      "An error occurred: invalid literal for int() with base 10: \"'6\"\n"
     ]
    }
   ],
   "source": [
    "# use cookies in chrome \n",
    "\n",
    "import os\n",
    "import yt_dlp as youtube_dl\n",
    "import urllib3\n",
    "urllib3.disable_warnings(urllib3.exceptions.InsecureRequestWarning)\n",
    "\n",
    "def download_youtube_video(video_url, resolution=\"720p\"):\n",
    "    \"\"\"\n",
    "    Download a YouTube video at a specified resolution.\n",
    "    :param video_url: URL of the YouTube video.\n",
    "    :param resolution: The resolution in which the video should be downloaded (e.g., \"720p\", \"480p\").\n",
    "    \"\"\"\n",
    "    # Create directory to store downloads\n",
    "    if not os.path.exists('downloaded_videos'):\n",
    "        os.makedirs('downloaded_videos')\n",
    "    \n",
    "    try:\n",
    "        target_height = int(resolution[:-1])\n",
    "    except ValueError:\n",
    "        print(f\"Invalid resolution format: {resolution}\")\n",
    "        return\n",
    "\n",
    "    ydl_opts = {\n",
    "        'format': f'bestvideo[height<={target_height}]+bestaudio/best',\n",
    "        'outtmpl': 'downloaded_videos/%(title)s.%(ext)s',\n",
    "        'merge_output_format': 'mp4',\n",
    "        'http_chunk_size': 10485760,  # 10MB\n",
    "        'retries': 10,\n",
    "        'nocheckcertificate': True,\n",
    "        'user_agent': 'Mozilla/5.0 (Windows NT 10.0; Win64; x64) AppleWebKit/537.36 (KHTML, like Gecko) Chrome/91.0.4472.124 Safari/537.36',\n",
    "        'ratelimit': '500K',  # Limit the download rate to prevent server issues\n",
    "        'cookiefile': 'cookies.txt'  # Use cookies for YouTube authentication\n",
    "    }\n",
    "\n",
    "    try:\n",
    "        with youtube_dl.YoutubeDL(ydl_opts) as ydl:\n",
    "            ydl.download([video_url])\n",
    "    except Exception as e:\n",
    "        print(f\"An error occurred: {e}\")\n",
    "\n",
    "def list_and_download_videos(playlist_url, resolution=\"720p\"):\n",
    "    \"\"\"\n",
    "    List all videos in a YouTube playlist and prompt the user to select videos to download.\n",
    "    :param playlist_url: URL of the YouTube playlist.\n",
    "    :param resolution: The resolution in which videos should be downloaded (e.g., \"720p\", \"480p\").\n",
    "    \"\"\"\n",
    "    ydl_opts = {\n",
    "        'extract_flat': True,\n",
    "        'noplaylist': False,\n",
    "        'nocheckcertificate': True,\n",
    "        'user_agent': 'Mozilla/5.0 (Windows NT 10.0; Win64; x64) AppleWebKit/537.36 (KHTML, like Gecko) Chrome/91.0.4472.124 Safari/537.36',\n",
    "        'cookiefile': 'cookies.txt'  # Use cookies for YouTube authentication\n",
    "    }\n",
    "\n",
    "    try:\n",
    "        with youtube_dl.YoutubeDL(ydl_opts) as ydl:\n",
    "            info_dict = ydl.extract_info(playlist_url, download=False)\n",
    "            entries = info_dict.get('entries', [])\n",
    "            video_urls = []\n",
    "\n",
    "            print(\"\\nList of videos in the playlist:\")\n",
    "            for idx, entry in enumerate(entries, start=1):\n",
    "                print(f\"{idx}. {entry.get('title')}\")\n",
    "                video_urls.append(entry.get('url'))\n",
    "\n",
    "            # Get user input for selection\n",
    "            selection = input(\"\\nEnter the numbers of the videos you want to download (e.g., '1 2 3' or '3-5'): \")\n",
    "            selected_indices = []\n",
    "            parts = selection.split()\n",
    "            for part in parts:\n",
    "                if '-' in part:\n",
    "                    start, end = map(int, part.split('-'))\n",
    "                    selected_indices.extend(range(start, end + 1))\n",
    "                else:\n",
    "                    selected_indices.append(int(part))\n",
    "\n",
    "            # Download selected videos\n",
    "            for idx in selected_indices:\n",
    "                if 1 <= idx <= len(video_urls):\n",
    "                    download_youtube_video(video_urls[idx - 1], resolution)\n",
    "                else:\n",
    "                    print(f\"Invalid index: {idx}\")\n",
    "    except Exception as e:\n",
    "        print(f\"An error occurred: {e}\")\n",
    "\n",
    "\n",
    "# Example usage\n",
    "playlist_url = \"https://www.youtube.com/playlist?list=PLEoM_i-3sen_Gc-AAiK3N1HZPW9tlg7zj\"\n",
    "list_and_download_videos(playlist_url, resolution=\"720p\")\n"
   ]
  },
  {
   "cell_type": "code",
   "execution_count": null,
   "id": "275b4482-e470-4774-9ec7-f9f9a35d7937",
   "metadata": {},
   "outputs": [],
   "source": []
  }
 ],
 "metadata": {
  "kernelspec": {
   "display_name": "youtube Env",
   "language": "python",
   "name": "youtubeenv"
  },
  "language_info": {
   "codemirror_mode": {
    "name": "ipython",
    "version": 3
   },
   "file_extension": ".py",
   "mimetype": "text/x-python",
   "name": "python",
   "nbconvert_exporter": "python",
   "pygments_lexer": "ipython3",
   "version": "3.10.15"
  }
 },
 "nbformat": 4,
 "nbformat_minor": 5
}
